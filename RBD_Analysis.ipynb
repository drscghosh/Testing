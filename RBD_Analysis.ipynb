{
  "nbformat": 4,
  "nbformat_minor": 0,
  "metadata": {
    "colab": {
      "provenance": [],
      "authorship_tag": "ABX9TyMxmP4t6iqCT21uWrMvXMmO",
      "include_colab_link": true
    },
    "kernelspec": {
      "name": "python3",
      "display_name": "Python 3"
    },
    "language_info": {
      "name": "python"
    }
  },
  "cells": [
    {
      "cell_type": "markdown",
      "metadata": {
        "id": "view-in-github",
        "colab_type": "text"
      },
      "source": [
        "<a href=\"https://colab.research.google.com/github/drscghosh/Testing/blob/master/RBD_Analysis.ipynb\" target=\"_parent\"><img src=\"https://colab.research.google.com/assets/colab-badge.svg\" alt=\"Open In Colab\"/></a>"
      ]
    },
    {
      "cell_type": "code",
      "execution_count": 7,
      "metadata": {
        "colab": {
          "base_uri": "https://localhost:8080/"
        },
        "id": "cSxvHP7TFbI9",
        "outputId": "dee8d220-5643-4931-8bb5-3442e8dc2eca"
      },
      "outputs": [
        {
          "output_type": "stream",
          "name": "stdout",
          "text": [
            "Sample RBD Dataset:\n",
            "\n",
            "   Block Treatment  Yield\n",
            "0     B1         A     23\n",
            "1     B1         B     25\n",
            "2     B1         C     27\n",
            "3     B1         D     21\n",
            "4     B2         A     24\n",
            "5     B2         B     28\n",
            "6     B2         C     26\n",
            "7     B2         D     22\n",
            "8     B3         A     20\n",
            "9     B3         B     22\n",
            "10    B3         C     25\n",
            "11    B3         D     19\n",
            "12    B4         A     21\n",
            "13    B4         B     24\n",
            "14    B4         C     23\n",
            "15    B4         D     20\n",
            "\n",
            "ANOVA Table (Randomized Block Design):\n",
            "\n",
            "              sum_sq   df          F    PR(>F)\n",
            "C(Treatment)   61.25  3.0  18.846154  0.000321\n",
            "C(Block)       32.75  3.0  10.076923  0.003093\n",
            "Residual        9.75  9.0        NaN       NaN\n"
          ]
        }
      ],
      "source": [
        "import pandas as pd\n",
        "import statsmodels.api as sm\n",
        "from statsmodels.formula.api import ols\n",
        "\n",
        "# Sample RBD dataset: Treatments (A, B, C, D) and Blocks (1 to 4)\n",
        "data = {\n",
        "    'Block': ['B1', 'B1', 'B1', 'B1',\n",
        "              'B2', 'B2', 'B2', 'B2',\n",
        "              'B3', 'B3', 'B3', 'B3',\n",
        "              'B4', 'B4', 'B4', 'B4'],\n",
        "    'Treatment': ['A', 'B', 'C', 'D',\n",
        "                  'A', 'B', 'C', 'D',\n",
        "                  'A', 'B', 'C', 'D',\n",
        "                  'A', 'B', 'C', 'D'],\n",
        "    'Yield': [23, 25, 27, 21,\n",
        "              24, 28, 26, 22,\n",
        "              20, 22, 25, 19,\n",
        "              21, 24, 23, 20]\n",
        "}\n",
        "\n",
        "df = pd.DataFrame(data)\n",
        "\n",
        "# Display the dataset\n",
        "print(\"Sample RBD Dataset:\\n\")\n",
        "print(df)\n",
        "\n",
        "# ANOVA model: Yield explained by Treatment and Block\n",
        "model = ols('Yield ~ C(Treatment) + C(Block)', data=df).fit()\n",
        "anova_table = sm.stats.anova_lm(model, typ=2)\n",
        "\n",
        "print(\"\\nANOVA Table (Randomized Block Design):\\n\")\n",
        "print(anova_table)\n"
      ]
    }
  ]
}