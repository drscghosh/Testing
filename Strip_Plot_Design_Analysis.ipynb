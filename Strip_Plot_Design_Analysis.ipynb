{
  "nbformat": 4,
  "nbformat_minor": 0,
  "metadata": {
    "colab": {
      "provenance": [],
      "authorship_tag": "ABX9TyNNIj5iwiqkooxs39BWT+Xb",
      "include_colab_link": true
    },
    "kernelspec": {
      "name": "python3",
      "display_name": "Python 3"
    },
    "language_info": {
      "name": "python"
    }
  },
  "cells": [
    {
      "cell_type": "markdown",
      "metadata": {
        "id": "view-in-github",
        "colab_type": "text"
      },
      "source": [
        "<a href=\"https://colab.research.google.com/github/drscghosh/Testing/blob/master/Strip_Plot_Design_Analysis.ipynb\" target=\"_parent\"><img src=\"https://colab.research.google.com/assets/colab-badge.svg\" alt=\"Open In Colab\"/></a>"
      ]
    },
    {
      "cell_type": "code",
      "source": [
        "import pandas as pd\n",
        "import statsmodels.api as sm\n",
        "from statsmodels.formula.api import ols\n",
        "\n",
        "# Example Data Creation\n",
        "# Assume 3 replications, 2 horizontal treatments (A1, A2), 3 vertical treatments (B1, B2, B3)\n",
        "\n",
        "data = {\n",
        "    'Replication': [1, 1, 1, 1, 1, 1,\n",
        "                    1, 1, 1, 2, 2, 2,\n",
        "                    2, 2, 2, 2, 2, 2,\n",
        "                    3, 3, 3, 3, 3, 3,\n",
        "                    3, 3, 3],\n",
        "    'Horizontal': ['A1', 'A1', 'A1', 'A2', 'A2', 'A2',\n",
        "                   'A1', 'A1', 'A1', 'A1', 'A1', 'A1',\n",
        "                   'A2', 'A2', 'A2', 'A2', 'A2', 'A2',\n",
        "                   'A1', 'A1', 'A1', 'A2', 'A2', 'A2',\n",
        "                   'A2', 'A2', 'A2'],\n",
        "    'Vertical': ['B1', 'B2', 'B3', 'B1', 'B2', 'B3',\n",
        "                 'B1', 'B2', 'B3', 'B1', 'B2', 'B3',\n",
        "                 'B1', 'B2', 'B3', 'B1', 'B2', 'B3',\n",
        "                 'B1', 'B2', 'B3', 'B1', 'B2', 'B3',\n",
        "                 'B1', 'B2', 'B3'],\n",
        "    'Yield': [23, 26, 30, 25, 27, 34,\n",
        "              24, 27, 31, 22, 28, 32,\n",
        "              26, 30, 35, 25, 29, 33,\n",
        "              21, 24, 29, 23, 25, 31,\n",
        "              24, 26, 33]\n",
        "}\n",
        "\n",
        "df = pd.DataFrame(data)\n",
        "\n",
        "# Convert to categorical\n",
        "df['Replication'] = df['Replication'].astype('category')\n",
        "df['Horizontal'] = df['Horizontal'].astype('category')\n",
        "df['Vertical'] = df['Vertical'].astype('category')\n",
        "\n",
        "# ANOVA using OLS (strip plot model)\n",
        "model = ols('Yield ~ C(Replication) + C(Horizontal) + C(Vertical) + C(Horizontal):C(Vertical)', data=df).fit()\n",
        "anova_table = sm.stats.anova_lm(model, typ=2)\n",
        "\n",
        "print(\"ANOVA Table for Strip Plot Design:\")\n",
        "print(anova_table)\n"
      ],
      "metadata": {
        "colab": {
          "base_uri": "https://localhost:8080/"
        },
        "id": "290RCHTr9Dzq",
        "outputId": "20066c94-78ac-4934-d955-b3fb948f50da"
      },
      "execution_count": 1,
      "outputs": [
        {
          "output_type": "stream",
          "name": "stdout",
          "text": [
            "ANOVA Table for Strip Plot Design:\n",
            "                               sum_sq    df           F        PR(>F)\n",
            "C(Replication)              34.016667   2.0   20.281904  1.931194e-05\n",
            "C(Horizontal)               28.166667   1.0   33.587866  1.389597e-05\n",
            "C(Vertical)                317.851852   2.0  189.514179  2.811746e-13\n",
            "C(Horizontal):C(Vertical)    2.714815   2.0    1.618666  2.243230e-01\n",
            "Residual                    15.933333  19.0         NaN           NaN\n"
          ]
        }
      ]
    }
  ]
}