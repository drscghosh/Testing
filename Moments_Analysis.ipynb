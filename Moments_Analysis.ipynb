{
  "nbformat": 4,
  "nbformat_minor": 0,
  "metadata": {
    "colab": {
      "provenance": [],
      "authorship_tag": "ABX9TyMxppdvgLcx/c5/zRRlNgoE",
      "include_colab_link": true
    },
    "kernelspec": {
      "name": "python3",
      "display_name": "Python 3"
    },
    "language_info": {
      "name": "python"
    }
  },
  "cells": [
    {
      "cell_type": "markdown",
      "metadata": {
        "id": "view-in-github",
        "colab_type": "text"
      },
      "source": [
        "<a href=\"https://colab.research.google.com/github/drscghosh/Testing/blob/master/Moments_Analysis.ipynb\" target=\"_parent\"><img src=\"https://colab.research.google.com/assets/colab-badge.svg\" alt=\"Open In Colab\"/></a>"
      ]
    },
    {
      "cell_type": "code",
      "source": [
        "import sqlite3\n",
        "import pandas as pd\n",
        "from scipy.stats import skew, kurtosis\n",
        "\n",
        "# Step 1: Create sample database and table\n",
        "def create_sample_database(db_name='sample_data.db'):\n",
        "    conn = sqlite3.connect(db_name)\n",
        "    cursor = conn.cursor()\n",
        "\n",
        "    # Create table\n",
        "    cursor.execute('''\n",
        "        CREATE TABLE IF NOT EXISTS measurements (\n",
        "            id INTEGER PRIMARY KEY AUTOINCREMENT,\n",
        "            value REAL NOT NULL\n",
        "        )\n",
        "    ''')\n",
        "\n",
        "    # Insert sample data\n",
        "    import random\n",
        "    data = [(random.gauss(50, 10),) for _ in range(100)]  # Normal distribution\n",
        "\n",
        "    cursor.executemany('INSERT INTO measurements (value) VALUES (?)', data)\n",
        "    conn.commit()\n",
        "    conn.close()\n",
        "\n",
        "# Step 2: Load data from database\n",
        "def load_data_from_db(db_name='sample_data.db'):\n",
        "    conn = sqlite3.connect(db_name)\n",
        "    df = pd.read_sql_query('SELECT value FROM measurements', conn)\n",
        "    conn.close()\n",
        "    return df\n",
        "\n",
        "# Step 3: Perform Moments Analysis\n",
        "def moments_analysis(df):\n",
        "    values = df['value']\n",
        "    results = {\n",
        "        'Mean': values.mean(),\n",
        "        'Variance': values.var(ddof=1),  # sample variance\n",
        "        'Skewness': skew(values),\n",
        "        'Kurtosis': kurtosis(values)  # Fisher’s definition (normal ==> 0.0)\n",
        "    }\n",
        "    return results\n",
        "\n",
        "# Run the analysis\n",
        "if __name__ == '__main__':\n",
        "    create_sample_database()\n",
        "    df = load_data_from_db()\n",
        "    analysis_results = moments_analysis(df)\n",
        "\n",
        "    print(\"Moments Analysis Results:\")\n",
        "    for key, value in analysis_results.items():\n",
        "        print(f\"{key}: {value:.4f}\")\n"
      ],
      "metadata": {
        "colab": {
          "base_uri": "https://localhost:8080/"
        },
        "id": "290RCHTr9Dzq",
        "outputId": "74d3f722-e560-40f2-a350-f6e9d27755b0"
      },
      "execution_count": 10,
      "outputs": [
        {
          "output_type": "stream",
          "name": "stdout",
          "text": [
            "Moments Analysis Results:\n",
            "Mean: 49.8962\n",
            "Variance: 87.1521\n",
            "Skewness: -0.0758\n",
            "Kurtosis: -0.3154\n"
          ]
        }
      ]
    }
  ]
}