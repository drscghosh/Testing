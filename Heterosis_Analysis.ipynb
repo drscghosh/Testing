{
  "nbformat": 4,
  "nbformat_minor": 0,
  "metadata": {
    "colab": {
      "provenance": [],
      "authorship_tag": "ABX9TyNnPFeYUfCHhcsnkVNzE6lv",
      "include_colab_link": true
    },
    "kernelspec": {
      "name": "python3",
      "display_name": "Python 3"
    },
    "language_info": {
      "name": "python"
    }
  },
  "cells": [
    {
      "cell_type": "markdown",
      "metadata": {
        "id": "view-in-github",
        "colab_type": "text"
      },
      "source": [
        "<a href=\"https://colab.research.google.com/github/drscghosh/Testing/blob/master/Heterosis_Analysis.ipynb\" target=\"_parent\"><img src=\"https://colab.research.google.com/assets/colab-badge.svg\" alt=\"Open In Colab\"/></a>"
      ]
    },
    {
      "cell_type": "code",
      "source": [
        "import pandas as pd\n",
        "\n",
        "# Example data input\n",
        "# Replace these with actual experimental values\n",
        "\n",
        "# Parents dictionary: {Parent ID: Value}\n",
        "parents = {\n",
        "    'P1': 25, 'P2': 30, 'P3': 28, 'P4': 32, 'P5': 27,\n",
        "    'P6': 31, 'P7': 26, 'P8': 29, 'P9': 33, 'P10': 30\n",
        "}\n",
        "\n",
        "# Hybrid list: [(Hybrid ID, Parent1 ID, Parent2 ID, Hybrid Value)]\n",
        "hybrids = [\n",
        "    ('H1', 'P1', 'P2', 35),\n",
        "    ('H2', 'P1', 'P3', 34),\n",
        "    ('H3', 'P1', 'P4', 36),\n",
        "    # ...\n",
        "    # Add all 45 hybrids in similar fashion\n",
        "    ('H45', 'P9', 'P10', 37)\n",
        "]\n",
        "\n",
        "# Check values\n",
        "checks = {'Check1': 29, 'Check2': 32}\n",
        "\n",
        "# Initialize results\n",
        "results = []\n",
        "\n",
        "# Heterosis Calculations\n",
        "for hybrid_id, p1, p2, h_val in hybrids:\n",
        "    p1_val = parents[p1]\n",
        "    p2_val = parents[p2]\n",
        "\n",
        "    mid_parent = (p1_val + p2_val) / 2\n",
        "    better_parent = max(p1_val, p2_val)\n",
        "\n",
        "    mph = ((h_val - mid_parent) / mid_parent) * 100\n",
        "    bph = ((h_val - better_parent) / better_parent) * 100\n",
        "    sh1 = ((h_val - checks['Check1']) / checks['Check1']) * 100\n",
        "    sh2 = ((h_val - checks['Check2']) / checks['Check2']) * 100\n",
        "\n",
        "    results.append({\n",
        "        'Hybrid': hybrid_id,\n",
        "        'Parent1': p1,\n",
        "        'Parent2': p2,\n",
        "        'Hybrid Value': h_val,\n",
        "        'MPH (%)': round(mph, 2),\n",
        "        'BPH (%)': round(bph, 2),\n",
        "        'SH (Check1) (%)': round(sh1, 2),\n",
        "        'SH (Check2) (%)': round(sh2, 2)\n",
        "    })\n",
        "\n",
        "# Convert to DataFrame\n",
        "df = pd.DataFrame(results)\n",
        "\n",
        "# Display or save to CSV\n",
        "print(df)\n",
        "# df.to_csv(\"heterosis_results.csv\", index=False)\n"
      ],
      "metadata": {
        "colab": {
          "base_uri": "https://localhost:8080/"
        },
        "id": "290RCHTr9Dzq",
        "outputId": "34796e72-862f-43eb-e9e9-3f67622a1857"
      },
      "execution_count": 1,
      "outputs": [
        {
          "output_type": "stream",
          "name": "stdout",
          "text": [
            "  Hybrid Parent1 Parent2  Hybrid Value  MPH (%)  BPH (%)  SH (Check1) (%)  \\\n",
            "0     H1      P1      P2            35    27.27    16.67            20.69   \n",
            "1     H2      P1      P3            34    28.30    21.43            17.24   \n",
            "2     H3      P1      P4            36    26.32    12.50            24.14   \n",
            "3    H45      P9     P10            37    17.46    12.12            27.59   \n",
            "\n",
            "   SH (Check2) (%)  \n",
            "0             9.38  \n",
            "1             6.25  \n",
            "2            12.50  \n",
            "3            15.62  \n"
          ]
        }
      ]
    }
  ]
}