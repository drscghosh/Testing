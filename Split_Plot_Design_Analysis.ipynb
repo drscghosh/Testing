{
  "nbformat": 4,
  "nbformat_minor": 0,
  "metadata": {
    "colab": {
      "provenance": [],
      "authorship_tag": "ABX9TyPL6DrdTb+ePrcLqBEEIrtv",
      "include_colab_link": true
    },
    "kernelspec": {
      "name": "python3",
      "display_name": "Python 3"
    },
    "language_info": {
      "name": "python"
    }
  },
  "cells": [
    {
      "cell_type": "markdown",
      "metadata": {
        "id": "view-in-github",
        "colab_type": "text"
      },
      "source": [
        "<a href=\"https://colab.research.google.com/github/drscghosh/Testing/blob/master/Split_Plot_Design_Analysis.ipynb\" target=\"_parent\"><img src=\"https://colab.research.google.com/assets/colab-badge.svg\" alt=\"Open In Colab\"/></a>"
      ]
    },
    {
      "cell_type": "code",
      "execution_count": 15,
      "metadata": {
        "colab": {
          "base_uri": "https://localhost:8080/"
        },
        "id": "cSxvHP7TFbI9",
        "outputId": "c93552e3-3461-4a3f-88a8-8de7f5bbf072"
      },
      "outputs": [
        {
          "output_type": "stream",
          "name": "stdout",
          "text": [
            "  Block Fertilizer Irrigation      Yield\n",
            "0    B1         F1        Low  50.855164\n",
            "1    B1         F1       High  54.641117\n",
            "2    B1         F2        Low  57.811906\n",
            "3    B1         F2       High  60.811923\n",
            "4    B1         F3        Low  63.925860\n",
            "                      Mixed Linear Model Regression Results\n",
            "==================================================================================\n",
            "Model:                      MixedLM          Dependent Variable:          Yield   \n",
            "No. Observations:           24               Method:                      REML    \n",
            "No. Groups:                 4                Scale:                       0.7799  \n",
            "Min. group size:            6                Log-Likelihood:              -33.9460\n",
            "Max. group size:            6                Converged:                   Yes     \n",
            "Mean group size:            6.0                                                   \n",
            "----------------------------------------------------------------------------------\n",
            "                                        Coef.  Std.Err.   z    P>|z| [0.025 0.975]\n",
            "----------------------------------------------------------------------------------\n",
            "Intercept                               53.592    0.720 74.446 0.000 52.182 55.003\n",
            "Fertilizer[T.F2]                         4.027    0.887  4.542 0.000  2.289  5.765\n",
            "Fertilizer[T.F3]                         8.483    1.161  7.309 0.000  6.208 10.758\n",
            "Irrigation[T.Low]                       -3.993    0.624 -6.394 0.000 -5.217 -2.769\n",
            "Fertilizer[T.F2]:Irrigation[T.Low]       1.785    0.883  2.021 0.043  0.054  3.516\n",
            "Fertilizer[T.F3]:Irrigation[T.Low]       1.796    0.883  2.034 0.042  0.066  3.527\n",
            "Group Var                                1.293    1.757                           \n",
            "Group x Fertilizer[T.F2] Cov             0.269    1.300                           \n",
            "Fertilizer[T.F2] Var                     1.584    2.596                           \n",
            "Group x Fertilizer[T.F3] Cov             0.647    1.819                           \n",
            "Fertilizer[T.F2] x Fertilizer[T.F3] Cov  2.438    3.171                           \n",
            "Fertilizer[T.F3] Var                     3.828    4.896                           \n",
            "==================================================================================\n",
            "\n"
          ]
        },
        {
          "output_type": "stream",
          "name": "stderr",
          "text": [
            "/usr/local/lib/python3.11/dist-packages/statsmodels/base/model.py:607: ConvergenceWarning: Maximum Likelihood optimization failed to converge. Check mle_retvals\n",
            "  warnings.warn(\"Maximum Likelihood optimization failed to \"\n",
            "/usr/local/lib/python3.11/dist-packages/statsmodels/regression/mixed_linear_model.py:2200: ConvergenceWarning: Retrying MixedLM optimization with lbfgs\n",
            "  warnings.warn(\n"
          ]
        }
      ],
      "source": [
        "import pandas as pd\n",
        "import numpy as np\n",
        "\n",
        "np.random.seed(42)\n",
        "\n",
        "# Factors\n",
        "blocks = ['B1', 'B2', 'B3', 'B4']\n",
        "fertilizers = ['F1', 'F2', 'F3']  # Whole-plot factor\n",
        "irrigations = ['Low', 'High']      # Subplot factor\n",
        "\n",
        "data = []\n",
        "\n",
        "for block in blocks:\n",
        "    for fert in fertilizers:\n",
        "        # whole-plot unit\n",
        "        wp_effect = np.random.normal(0, 2)\n",
        "        for irr in irrigations:\n",
        "            # subplot unit with interaction effect\n",
        "            response = 50 + (fertilizers.index(fert) * 5) + (irrigations.index(irr) * 3) + wp_effect + np.random.normal(0, 1)\n",
        "            data.append([block, fert, irr, response])\n",
        "\n",
        "df = pd.DataFrame(data, columns=['Block', 'Fertilizer', 'Irrigation', 'Yield'])\n",
        "print(df.head())\n",
        "\n",
        "import statsmodels.api as sm\n",
        "from statsmodels.formula.api import mixedlm\n",
        "\n",
        "# Fit a mixed model:\n",
        "# - Fixed effects: Fertilizer, Irrigation, Fertilizer*Irrigation\n",
        "# - Random effect: Block and Block*Fertilizer (whole plot error)\n",
        "\n",
        "# Create interaction term\n",
        "df['Fertilizer_Irrigation'] = df['Fertilizer'] + ':' + df['Irrigation']\n",
        "\n",
        "# Formula with fixed effects and random intercepts per Block and Block:Fertilizer\n",
        "model = mixedlm(\"Yield ~ Fertilizer * Irrigation\",\n",
        "                df,\n",
        "                groups=df[\"Block\"],\n",
        "                re_formula=\"~Fertilizer\")\n",
        "\n",
        "result = model.fit()\n",
        "print(result.summary())\n",
        "\n"
      ]
    }
  ]
}