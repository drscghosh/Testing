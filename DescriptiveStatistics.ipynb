{
  "nbformat": 4,
  "nbformat_minor": 0,
  "metadata": {
    "colab": {
      "provenance": [],
      "authorship_tag": "ABX9TyPH6SHbclqPm2n89sqqKeQA",
      "include_colab_link": true
    },
    "kernelspec": {
      "name": "python3",
      "display_name": "Python 3"
    },
    "language_info": {
      "name": "python"
    }
  },
  "cells": [
    {
      "cell_type": "markdown",
      "metadata": {
        "id": "view-in-github",
        "colab_type": "text"
      },
      "source": [
        "<a href=\"https://colab.research.google.com/github/drscghosh/Testing/blob/master/DescriptiveStatistics.ipynb\" target=\"_parent\"><img src=\"https://colab.research.google.com/assets/colab-badge.svg\" alt=\"Open In Colab\"/></a>"
      ]
    },
    {
      "cell_type": "code",
      "execution_count": null,
      "metadata": {
        "colab": {
          "base_uri": "https://localhost:8080/"
        },
        "id": "cSxvHP7TFbI9",
        "outputId": "2adbe744-a367-47e2-80ef-3d9b1fd44287"
      },
      "outputs": [
        {
          "output_type": "stream",
          "name": "stdout",
          "text": [
            "\n",
            "--- Descriptive Statistics (Using Pandas) ---\n",
            "\n",
            "             id        age        salary\n",
            "count  7.000000   7.000000      7.000000\n",
            "mean   4.000000  32.000000  57428.571429\n",
            "std    2.160247   4.358899   3552.329886\n",
            "min    1.000000  28.000000  52000.000000\n",
            "25%    2.500000  28.500000  55000.000000\n",
            "50%    4.000000  31.000000  58000.000000\n",
            "75%    5.500000  34.000000  60000.000000\n",
            "max    7.000000  40.000000  62000.000000\n",
            "\n",
            "--- Additional Statistics ---\n",
            "Median Age: 31.0\n",
            "Median Salary: 58000.0\n",
            "Mode Age: 28\n",
            "Mode Salary: 55000.0\n"
          ]
        }
      ],
      "source": [
        "import sqlite3\n",
        "import pandas as pd\n",
        "from statistics import mode\n",
        "\n",
        "# Step 1: Create and populate sample database\n",
        "def create_sample_db():\n",
        "    conn = sqlite3.connect('sample.db')\n",
        "    c = conn.cursor()\n",
        "\n",
        "    # Create table\n",
        "    c.execute('''CREATE TABLE IF NOT EXISTS employees (\n",
        "                    id INTEGER PRIMARY KEY,\n",
        "                    name TEXT,\n",
        "                    age INTEGER,\n",
        "                    salary REAL\n",
        "                )''')\n",
        "\n",
        "    # Insert sample data\n",
        "    employees_data = [\n",
        "        (1, 'Alice', 28, 55000),\n",
        "        (2, 'Bob', 34, 60000),\n",
        "        (3, 'Charlie', 29, 52000),\n",
        "        (4, 'Diana', 40, 62000),\n",
        "        (5, 'Ethan', 31, 58000),\n",
        "        (6, 'Fay', 34, 60000),  # Duplicate salary for mode\n",
        "        (7, 'Grace', 28, 55000), # Duplicate age for mode\n",
        "    ]\n",
        "    c.executemany('INSERT OR IGNORE INTO employees VALUES (?, ?, ?, ?)', employees_data)\n",
        "    conn.commit()\n",
        "    conn.close()\n",
        "\n",
        "# Step 2: Load data and perform descriptive statistics\n",
        "def analyze_data():\n",
        "    conn = sqlite3.connect('sample.db')\n",
        "    df = pd.read_sql_query(\"SELECT * FROM employees\", conn)\n",
        "\n",
        "    print(\"\\n--- Descriptive Statistics (Using Pandas) ---\\n\")\n",
        "    print(df.describe())\n",
        "\n",
        "    print(\"\\n--- Additional Statistics ---\")\n",
        "    print(f\"Median Age: {df['age'].median()}\")\n",
        "    print(f\"Median Salary: {df['salary'].median()}\")\n",
        "\n",
        "    try:\n",
        "        print(f\"Mode Age: {mode(df['age'])}\")\n",
        "        print(f\"Mode Salary: {mode(df['salary'])}\")\n",
        "    except:\n",
        "        print(\"No unique mode found.\")\n",
        "\n",
        "    conn.close()\n",
        "\n",
        "# Run the functions\n",
        "create_sample_db()\n",
        "analyze_data()"
      ]
    }
  ]
}