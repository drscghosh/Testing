{
  "nbformat": 4,
  "nbformat_minor": 0,
  "metadata": {
    "colab": {
      "provenance": [],
      "authorship_tag": "ABX9TyNxtwCmFvq+6UMIybm2F4no",
      "include_colab_link": true
    },
    "kernelspec": {
      "name": "python3",
      "display_name": "Python 3"
    },
    "language_info": {
      "name": "python"
    }
  },
  "cells": [
    {
      "cell_type": "markdown",
      "metadata": {
        "id": "view-in-github",
        "colab_type": "text"
      },
      "source": [
        "<a href=\"https://colab.research.google.com/github/drscghosh/Testing/blob/master/DialGrifM3Model1WithoutCheck.ipynb\" target=\"_parent\"><img src=\"https://colab.research.google.com/assets/colab-badge.svg\" alt=\"Open In Colab\"/></a>"
      ]
    },
    {
      "cell_type": "code",
      "execution_count": 3,
      "metadata": {
        "colab": {
          "base_uri": "https://localhost:8080/"
        },
        "id": "cSxvHP7TFbI9",
        "outputId": "53a98786-d8d2-4718-f25e-208ecb1b4817"
      },
      "outputs": [
        {
          "output_type": "stream",
          "name": "stdout",
          "text": [
            "ANOVA Table:\n",
            "                   sum_sq    df         F    PR(>F)\n",
            "C(Genotype)     24.566293   9.0  1.271600  0.316324\n",
            "C(Replication)  30.756640   2.0  7.164109  0.005143\n",
            "Residual        38.638409  18.0       NaN       NaN\n",
            "\n",
            "GCA Effects:\n",
            "P1: 0.3449\n",
            "P2: -0.3909\n",
            "P3: 0.3348\n",
            "P4: -0.5469\n",
            "\n",
            "SCA Effects:\n",
            "P1-P1: 1.0307\n",
            "P1-P2: -0.1308\n",
            "P1-P3: 0.3348\n",
            "P1-P4: -0.6317\n",
            "P2-P2: -0.9017\n",
            "P2-P3: -0.0246\n",
            "P2-P4: 0.9244\n",
            "P3-P3: 1.0131\n",
            "P3-P4: -0.7303\n",
            "P4-P4: 0.1489\n"
          ]
        }
      ],
      "source": [
        "import pandas as pd\n",
        "import numpy as np\n",
        "import itertools\n",
        "import statsmodels.api as sm\n",
        "import statsmodels.formula.api as smf\n",
        "\n",
        "# -------------------------------\n",
        "# Simulate a diallel mating design (Griffing’s Method 3)\n",
        "# -------------------------------\n",
        "\n",
        "# Define parents\n",
        "parents = ['P1', 'P2', 'P3', 'P4']\n",
        "replications = ['R1', 'R2', 'R3']\n",
        "\n",
        "# Generate unique crosses (without reciprocals)\n",
        "def generate_crosses(parents):\n",
        "    crosses = []\n",
        "    for i, p1 in enumerate(parents):\n",
        "        for j, p2 in enumerate(parents[i:], i):  # include self crosses\n",
        "            crosses.append((p1, p2))\n",
        "    return crosses\n",
        "\n",
        "crosses = generate_crosses(parents)\n",
        "\n",
        "# Simulate data\n",
        "np.random.seed(42)\n",
        "data = []\n",
        "for rep in replications:\n",
        "    for p1, p2 in crosses:\n",
        "        yield_val = np.random.normal(loc=12.0, scale=2.0)\n",
        "        data.append([rep, p1, p2, yield_val])\n",
        "\n",
        "df = pd.DataFrame(data, columns=['Replication', 'Parent1', 'Parent2', 'Yield'])\n",
        "\n",
        "# -------------------------------\n",
        "# Griffing Method 3 Model: Fixed effects\n",
        "# -------------------------------\n",
        "\n",
        "# Create unique genotype identifier (sorted for symmetry)\n",
        "df['Genotype'] = df.apply(lambda x: '-'.join(sorted([x['Parent1'], x['Parent2']])), axis=1)\n",
        "\n",
        "# Fit the model\n",
        "model = smf.ols('Yield ~ C(Genotype) + C(Replication)', data=df).fit()\n",
        "\n",
        "# Print the ANOVA table\n",
        "anova_table = sm.stats.anova_lm(model, typ=2)\n",
        "print(\"ANOVA Table:\")\n",
        "print(anova_table)\n",
        "\n",
        "# -------------------------------\n",
        "# Estimate GCA and SCA effects\n",
        "# -------------------------------\n",
        "\n",
        "# Calculate Genotype Means\n",
        "genotype_means = df.groupby('Genotype')['Yield'].mean()\n",
        "\n",
        "# Calculate overall mean\n",
        "grand_mean = df['Yield'].mean()\n",
        "\n",
        "# Extract parents from genotype strings\n",
        "gca_effects = {p: 0.0 for p in parents}\n",
        "n_parents = len(parents)\n",
        "\n",
        "# Count number of crosses for each parent (diagonal and off-diagonal)\n",
        "cross_matrix = {p: [] for p in parents}\n",
        "for g in genotype_means.index:\n",
        "    p1, p2 = g.split('-')\n",
        "    cross_matrix[p1].append(g)\n",
        "    if p1 != p2:\n",
        "        cross_matrix[p2].append(g)\n",
        "\n",
        "# Estimate GCA\n",
        "for p in parents:\n",
        "    gca_effects[p] = np.mean([genotype_means[g] for g in cross_matrix[p]]) - grand_mean\n",
        "\n",
        "# Estimate SCA\n",
        "sca_effects = {}\n",
        "for g in genotype_means.index:\n",
        "    p1, p2 = g.split('-')\n",
        "    expected = grand_mean + gca_effects[p1] + (0 if p1 == p2 else gca_effects[p2])\n",
        "    sca = genotype_means[g] - expected\n",
        "    sca_effects[g] = sca\n",
        "\n",
        "# -------------------------------\n",
        "# Output GCA and SCA\n",
        "# -------------------------------\n",
        "print(\"\\nGCA Effects:\")\n",
        "for k, v in gca_effects.items():\n",
        "    print(f\"{k}: {v:.4f}\")\n",
        "\n",
        "print(\"\\nSCA Effects:\")\n",
        "for k, v in sca_effects.items():\n",
        "    print(f\"{k}: {v:.4f}\")\n"
      ]
    }
  ]
}