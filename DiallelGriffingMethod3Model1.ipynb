{
  "nbformat": 4,
  "nbformat_minor": 0,
  "metadata": {
    "colab": {
      "provenance": [],
      "authorship_tag": "ABX9TyOCZo3/+tUhBODEXSKa27wi",
      "include_colab_link": true
    },
    "kernelspec": {
      "name": "python3",
      "display_name": "Python 3"
    },
    "language_info": {
      "name": "python"
    }
  },
  "cells": [
    {
      "cell_type": "markdown",
      "metadata": {
        "id": "view-in-github",
        "colab_type": "text"
      },
      "source": [
        "<a href=\"https://colab.research.google.com/github/drscghosh/Testing/blob/master/DiallelGriffingMethod3Model1.ipynb\" target=\"_parent\"><img src=\"https://colab.research.google.com/assets/colab-badge.svg\" alt=\"Open In Colab\"/></a>"
      ]
    },
    {
      "cell_type": "code",
      "execution_count": 2,
      "metadata": {
        "colab": {
          "base_uri": "https://localhost:8080/"
        },
        "id": "cSxvHP7TFbI9",
        "outputId": "bfa021a5-a09b-4d7f-9e89-874ef809e4cb"
      },
      "outputs": [
        {
          "output_type": "stream",
          "name": "stdout",
          "text": [
            "\n",
            "ANOVA Table (Fixed Effects Model):\n",
            "                     sum_sq    df         F    PR(>F)\n",
            "C(Replication)   310.544318   2.0  1.340299  0.282317\n",
            "C(Genotype)     1421.139044  11.0  1.115198  0.395420\n",
            "Residual        2548.675686  22.0       NaN       NaN\n",
            "\n",
            "GCA Effects:\n",
            "P3: 0.496\n",
            "P2: 0.650\n",
            "P4: -2.269\n",
            "P1: -1.930\n",
            "\n",
            "SCA Effects:\n",
            "P1xP2: 1.273\n",
            "P1xP3: 2.415\n",
            "P1xP4: -10.542\n",
            "P2xP3: -2.988\n",
            "P2xP4: 0.061\n",
            "P3xP4: 6.728\n",
            "\n",
            "Check Variety Means:\n",
            "Check1: 98.82\n",
            "Check2: 92.76\n"
          ]
        }
      ],
      "source": [
        "import pandas as pd\n",
        "import numpy as np\n",
        "import itertools\n",
        "import statsmodels.api as sm\n",
        "from statsmodels.formula.api import ols\n",
        "\n",
        "# -------------------------\n",
        "# Step 1: Simulate data\n",
        "# -------------------------\n",
        "parents = ['P1', 'P2', 'P3', 'P4']\n",
        "check_varieties = ['Check1', 'Check2']\n",
        "\n",
        "# Generate F1 crosses (no reciprocals, no selfs)\n",
        "crosses = [f\"{p1}x{p2}\" for i, p1 in enumerate(parents) for p2 in parents[i+1:]]\n",
        "\n",
        "# Combine all entries\n",
        "entries = parents + crosses + check_varieties\n",
        "\n",
        "# Simulate replicated data (e.g., 3 replicates per entry)\n",
        "np.random.seed(0)\n",
        "data = []\n",
        "for entry in entries:\n",
        "    for rep in range(1, 4):  # 3 replicates\n",
        "        yield_value = np.random.normal(loc=100, scale=10)  # simulate yield data\n",
        "        data.append({'Genotype': entry, 'Replication': rep, 'Yield': yield_value})\n",
        "\n",
        "df = pd.DataFrame(data)\n",
        "\n",
        "# -------------------------\n",
        "# Step 2: Create ANOVA model\n",
        "# -------------------------\n",
        "# Model: Yield ~ Replication + Genotype (fixed effects)\n",
        "model = ols('Yield ~ C(Replication) + C(Genotype)', data=df).fit()\n",
        "anova_table = sm.stats.anova_lm(model, typ=2)\n",
        "\n",
        "print(\"\\nANOVA Table (Fixed Effects Model):\")\n",
        "print(anova_table)\n",
        "\n",
        "# -------------------------\n",
        "# Step 3: Estimate GCA & SCA\n",
        "# -------------------------\n",
        "# Extract only parent and cross data (exclude checks)\n",
        "diallel_df = df[~df['Genotype'].isin(check_varieties)].copy()\n",
        "\n",
        "# Label each row with Parent1 and Parent2\n",
        "def get_parents(genotype):\n",
        "    if 'x' in genotype:\n",
        "        return genotype.split('x')\n",
        "    else:\n",
        "        return [genotype, genotype]\n",
        "\n",
        "diallel_df[['Parent1', 'Parent2']] = diallel_df['Genotype'].apply(lambda g: pd.Series(get_parents(g)))\n",
        "\n",
        "# Estimate GCA\n",
        "# Mean per parent (including as parent1 or parent2)\n",
        "all_parents = list(set(parents))\n",
        "gca_values = {}\n",
        "overall_mean = diallel_df['Yield'].mean()\n",
        "\n",
        "for parent in all_parents:\n",
        "    parent_data = diallel_df[(diallel_df['Parent1'] == parent) | (diallel_df['Parent2'] == parent)]\n",
        "    gca_values[parent] = parent_data['Yield'].mean() - overall_mean\n",
        "\n",
        "# Estimate SCA\n",
        "sca_values = {}\n",
        "for cross in crosses:\n",
        "    p1, p2 = cross.split('x')\n",
        "    cross_data = diallel_df[diallel_df['Genotype'] == cross]\n",
        "    cross_mean = cross_data['Yield'].mean()\n",
        "    sca = cross_mean - overall_mean - gca_values[p1] - gca_values[p2]\n",
        "    sca_values[cross] = sca\n",
        "\n",
        "# -------------------------\n",
        "# Step 4: Display results\n",
        "# -------------------------\n",
        "print(\"\\nGCA Effects:\")\n",
        "for parent, gca in gca_values.items():\n",
        "    print(f\"{parent}: {gca:.3f}\")\n",
        "\n",
        "print(\"\\nSCA Effects:\")\n",
        "for cross, sca in sca_values.items():\n",
        "    print(f\"{cross}: {sca:.3f}\")\n",
        "\n",
        "# -------------------------\n",
        "# Step 5: Compare checks\n",
        "# -------------------------\n",
        "print(\"\\nCheck Variety Means:\")\n",
        "for check in check_varieties:\n",
        "    mean_yield = df[df['Genotype'] == check]['Yield'].mean()\n",
        "    print(f\"{check}: {mean_yield:.2f}\")\n",
        "\n"
      ]
    }
  ]
}