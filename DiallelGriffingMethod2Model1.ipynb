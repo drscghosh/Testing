{
  "nbformat": 4,
  "nbformat_minor": 0,
  "metadata": {
    "colab": {
      "provenance": [],
      "authorship_tag": "ABX9TyPHIeOxW/nMBv8COoIj0hAw",
      "include_colab_link": true
    },
    "kernelspec": {
      "name": "python3",
      "display_name": "Python 3"
    },
    "language_info": {
      "name": "python"
    }
  },
  "cells": [
    {
      "cell_type": "markdown",
      "metadata": {
        "id": "view-in-github",
        "colab_type": "text"
      },
      "source": [
        "<a href=\"https://colab.research.google.com/github/drscghosh/Testing/blob/master/DiallelGriffingMethod2Model1.ipynb\" target=\"_parent\"><img src=\"https://colab.research.google.com/assets/colab-badge.svg\" alt=\"Open In Colab\"/></a>"
      ]
    },
    {
      "cell_type": "code",
      "execution_count": 1,
      "metadata": {
        "colab": {
          "base_uri": "https://localhost:8080/"
        },
        "id": "cSxvHP7TFbI9",
        "outputId": "0039b51d-aa45-4b81-a8f9-11e171cfeaeb"
      },
      "outputs": [
        {
          "output_type": "stream",
          "name": "stdout",
          "text": [
            "Sample Diallel Data (Method 2):\n",
            "  Parent1 Parent2  Yield\n",
            "0      P1      P1  58.82\n",
            "1      P1      P2  52.00\n",
            "2      P1      P3  54.89\n",
            "3      P1      P4  61.20\n",
            "4      P2      P2  59.34\n",
            "5      P2      P3  45.11\n",
            "6      P2      P4  54.75\n",
            "7      P3      P3  49.24\n",
            "8      P3      P4  49.48\n",
            "9      P4      P4  52.05\n",
            "\n",
            "ANOVA Table:\n",
            "                sum_sq   df         F    PR(>F)\n",
            "C(Parent1)   48.900225  3.0  0.477846  0.720159\n",
            "C(Parent2)   53.298500  3.0  0.520826  0.697213\n",
            "Residual    102.334642  3.0       NaN       NaN\n",
            "\n",
            "General Combining Ability (GCA):\n",
            "P1: 3.04\n",
            "P2: -0.89\n",
            "P3: -4.01\n",
            "P4: 0.68\n",
            "\n",
            "Specific Combining Ability (SCA):\n",
            "P1-P1: -0.95\n",
            "P1-P2: -3.84\n",
            "P1-P3: 2.17\n",
            "P1-P4: 3.79\n",
            "P2-P2: 7.43\n",
            "P2-P3: -3.68\n",
            "P2-P4: 1.27\n",
            "P3-P3: 3.57\n",
            "P3-P4: -0.88\n",
            "P4-P4: -3.0\n"
          ]
        },
        {
          "output_type": "stream",
          "name": "stderr",
          "text": [
            "<ipython-input-1-98d673f9cdd4>:24: FutureWarning: Series.__getitem__ treating keys as positions is deprecated. In a future version, integer keys will always be treated as labels (consistent with DataFrame behavior). To access a value by position, use `ser.iloc[pos]`\n",
            "  df[\"Cross\"] = df[[\"Parent1\", \"Parent2\"]].apply(lambda x: \"-\".join(sorted([x[0], x[1]])), axis=1)\n"
          ]
        }
      ],
      "source": [
        "import pandas as pd\n",
        "import numpy as np\n",
        "import statsmodels.api as sm\n",
        "from statsmodels.formula.api import ols\n",
        "from itertools import combinations_with_replacement\n",
        "\n",
        "# Generate a sample dataset: Griffing Method 2 (parents + one-way crosses)\n",
        "def generate_sample_data():\n",
        "    parents = ['P1', 'P2', 'P3', 'P4']\n",
        "    crosses = list(combinations_with_replacement(parents, 2))\n",
        "    data = []\n",
        "    np.random.seed(0)\n",
        "    for i, (p1, p2) in enumerate(crosses):\n",
        "        yield_val = np.round(np.random.normal(loc=50, scale=5), 2)\n",
        "        data.append([p1, p2, yield_val])\n",
        "    return pd.DataFrame(data, columns=[\"Parent1\", \"Parent2\", \"Yield\"])\n",
        "\n",
        "# Create the sample dataset\n",
        "df = generate_sample_data()\n",
        "print(\"Sample Diallel Data (Method 2):\")\n",
        "print(df)\n",
        "\n",
        "# Create a unique cross identifier\n",
        "df[\"Cross\"] = df[[\"Parent1\", \"Parent2\"]].apply(lambda x: \"-\".join(sorted([x[0], x[1]])), axis=1)\n",
        "\n",
        "# ANOVA using OLS with fixed effects\n",
        "model = ols('Yield ~ C(Parent1) + C(Parent2)', data=df).fit()\n",
        "anova_table = sm.stats.anova_lm(model, typ=2)\n",
        "print(\"\\nANOVA Table:\")\n",
        "print(anova_table)\n",
        "\n",
        "# Compute GCA and SCA\n",
        "parents = sorted(df['Parent1'].unique())\n",
        "n_parents = len(parents)\n",
        "\n",
        "# Mean yield of each parent (including its crosses)\n",
        "gca = {}\n",
        "overall_mean = df[\"Yield\"].mean()\n",
        "parent_means = {p: df[(df[\"Parent1\"] == p) | (df[\"Parent2\"] == p)][\"Yield\"].mean() for p in parents}\n",
        "\n",
        "# GCA = mean of crosses involving the parent - overall mean\n",
        "gca = {p: round(parent_means[p] - overall_mean, 2) for p in parents}\n",
        "\n",
        "print(\"\\nGeneral Combining Ability (GCA):\")\n",
        "for p in gca:\n",
        "    print(f\"{p}: {gca[p]}\")\n",
        "\n",
        "# SCA = specific cross mean - overall mean - GCA of P1 - GCA of P2\n",
        "print(\"\\nSpecific Combining Ability (SCA):\")\n",
        "scas = []\n",
        "for _, row in df.iterrows():\n",
        "    p1, p2 = row[\"Parent1\"], row[\"Parent2\"]\n",
        "    cross_mean = row[\"Yield\"]\n",
        "    sca = round(cross_mean - overall_mean - gca[p1] - gca[p2], 2)\n",
        "    scas.append((f\"{p1}-{p2}\", sca))\n",
        "    print(f\"{p1}-{p2}: {sca}\")\n",
        "\n"
      ]
    }
  ]
}