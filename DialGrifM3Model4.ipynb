{
  "nbformat": 4,
  "nbformat_minor": 0,
  "metadata": {
    "colab": {
      "provenance": [],
      "authorship_tag": "ABX9TyOipRGrijqsEWhJ/DgmJC0I",
      "include_colab_link": true
    },
    "kernelspec": {
      "name": "python3",
      "display_name": "Python 3"
    },
    "language_info": {
      "name": "python"
    }
  },
  "cells": [
    {
      "cell_type": "markdown",
      "metadata": {
        "id": "view-in-github",
        "colab_type": "text"
      },
      "source": [
        "<a href=\"https://colab.research.google.com/github/drscghosh/Testing/blob/master/DialGrifM3Model4.ipynb\" target=\"_parent\"><img src=\"https://colab.research.google.com/assets/colab-badge.svg\" alt=\"Open In Colab\"/></a>"
      ]
    },
    {
      "cell_type": "code",
      "execution_count": 4,
      "metadata": {
        "colab": {
          "base_uri": "https://localhost:8080/"
        },
        "id": "cSxvHP7TFbI9",
        "outputId": "bed0cf04-2b6f-42ec-b9b6-e986d2f1a45e"
      },
      "outputs": [
        {
          "output_type": "stream",
          "name": "stdout",
          "text": [
            "\n",
            "=== Sample Dataset ===\n",
            "  Parent1 Parent2  Cross  Rep      Yield\n",
            "0      P1      P2  P1xP2    1  52.483571\n",
            "1      P1      P2  P1xP2    2  49.308678\n",
            "2      P1      P2  P1xP2    3  53.238443\n",
            "3      P1      P3  P1xP3    1  57.615149\n",
            "4      P1      P3  P1xP3    2  48.829233\n",
            "\n",
            "=== ANOVA Table ===\n",
            "              sum_sq    df         F    PR(>F)\n",
            "C(Cross)  155.987431   5.0  1.669099  0.216333\n",
            "Residual  224.294508  12.0       NaN       NaN\n",
            "\n",
            "=== GCA Effects ===\n",
            "P1: 2.495\n",
            "P2: -1.235\n",
            "P3: -0.022\n",
            "P4: -1.237\n",
            "\n",
            "=== SCA Effects ===\n",
            "P1xP2: 0.725\n",
            "P1xP3: -0.408\n",
            "P1xP4: 2.178\n",
            "P2xP3: 0.920\n",
            "P2xP4: -2.881\n",
            "P3xP4: -0.535\n"
          ]
        }
      ],
      "source": [
        "import pandas as pd\n",
        "import numpy as np\n",
        "import statsmodels.api as sm\n",
        "from statsmodels.formula.api import ols\n",
        "\n",
        "# Sample data generation: Griffing Method-4 (F1 only, no reciprocals)\n",
        "def generate_sample_data():\n",
        "    parents = ['P1', 'P2', 'P3', 'P4']\n",
        "    data = []\n",
        "    np.random.seed(42)\n",
        "\n",
        "    for i in range(len(parents)):\n",
        "        for j in range(i + 1, len(parents)):\n",
        "            cross = f\"{parents[i]}x{parents[j]}\"\n",
        "            value = np.random.normal(loc=50, scale=5, size=3)  # 3 replications\n",
        "            for rep, v in enumerate(value, 1):\n",
        "                data.append([parents[i], parents[j], cross, rep, v])\n",
        "\n",
        "    return pd.DataFrame(data, columns=['Parent1', 'Parent2', 'Cross', 'Rep', 'Yield'])\n",
        "\n",
        "# Perform Griffing's Method-4 Analysis\n",
        "def diallel_analysis_method4(df):\n",
        "    print(\"\\n=== Sample Dataset ===\")\n",
        "    print(df.head())\n",
        "\n",
        "    # Model: Yield ~ Cross (fixed effect model)\n",
        "    model = ols('Yield ~ C(Cross)', data=df).fit()\n",
        "    anova_table = sm.stats.anova_lm(model, typ=2)\n",
        "\n",
        "    print(\"\\n=== ANOVA Table ===\")\n",
        "    print(anova_table)\n",
        "\n",
        "    # GCA and SCA effects estimation\n",
        "    crosses = df['Cross'].unique()\n",
        "    parents = sorted(set(df['Parent1']) | set(df['Parent2']))\n",
        "    n = len(parents)\n",
        "\n",
        "    # Compute means\n",
        "    cross_means = df.groupby('Cross')['Yield'].mean()\n",
        "    grand_mean = df['Yield'].mean()\n",
        "\n",
        "    # Create matrix for SCA and GCA\n",
        "    gca = {p: 0.0 for p in parents}\n",
        "    sca = {}\n",
        "\n",
        "    # GCA estimation\n",
        "    gca_counts = {p: 0 for p in parents}\n",
        "    for cross in crosses:\n",
        "        p1, p2 = cross.split('x')\n",
        "        mean_yield = cross_means[cross]\n",
        "        gca[p1] += mean_yield\n",
        "        gca[p2] += mean_yield\n",
        "        gca_counts[p1] += 1\n",
        "        gca_counts[p2] += 1\n",
        "\n",
        "    for p in parents:\n",
        "        gca[p] = (gca[p] / gca_counts[p]) - grand_mean\n",
        "\n",
        "    # SCA estimation\n",
        "    for cross in crosses:\n",
        "        p1, p2 = cross.split('x')\n",
        "        sca_val = cross_means[cross] - (grand_mean + gca[p1] + gca[p2])\n",
        "        sca[cross] = sca_val\n",
        "\n",
        "    print(\"\\n=== GCA Effects ===\")\n",
        "    for p in gca:\n",
        "        print(f\"{p}: {gca[p]:.3f}\")\n",
        "\n",
        "    print(\"\\n=== SCA Effects ===\")\n",
        "    for c in sca:\n",
        "        print(f\"{c}: {sca[c]:.3f}\")\n",
        "\n",
        "# Run the analysis\n",
        "if __name__ == \"__main__\":\n",
        "    df = generate_sample_data()\n",
        "    diallel_analysis_method4(df)\n"
      ]
    }
  ]
}