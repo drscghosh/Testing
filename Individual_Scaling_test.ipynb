{
  "nbformat": 4,
  "nbformat_minor": 0,
  "metadata": {
    "colab": {
      "provenance": [],
      "authorship_tag": "ABX9TyNDw15wLuQh7Jao4VEMu9ST",
      "include_colab_link": true
    },
    "kernelspec": {
      "name": "python3",
      "display_name": "Python 3"
    },
    "language_info": {
      "name": "python"
    }
  },
  "cells": [
    {
      "cell_type": "markdown",
      "metadata": {
        "id": "view-in-github",
        "colab_type": "text"
      },
      "source": [
        "<a href=\"https://colab.research.google.com/github/drscghosh/Testing/blob/master/Individual_Scaling_test.ipynb\" target=\"_parent\"><img src=\"https://colab.research.google.com/assets/colab-badge.svg\" alt=\"Open In Colab\"/></a>"
      ]
    },
    {
      "cell_type": "code",
      "source": [
        "import numpy as np\n",
        "import pandas as pd\n",
        "\n",
        "def min_max_scale_individual(row):\n",
        "    min_val = row.min()\n",
        "    max_val = row.max()\n",
        "    return (row - min_val) / (max_val - min_val) if max_val != min_val else row * 0\n",
        "\n",
        "def test_individual_scaling():\n",
        "    # Create sample data\n",
        "    data = pd.DataFrame({\n",
        "        'Feature1': [1, 100, 500],\n",
        "        'Feature2': [2, 150, 700],\n",
        "        'Feature3': [3, 200, 1000]\n",
        "    }, index=['Person1', 'Person2', 'Person3'])\n",
        "\n",
        "    print(\"Original Data:\")\n",
        "    print(data)\n",
        "\n",
        "    # Apply individual scaling\n",
        "    scaled_data = data.apply(min_max_scale_individual, axis=1)\n",
        "\n",
        "    print(\"\\nIndividually Scaled Data (Min-Max per row):\")\n",
        "    print(scaled_data)\n",
        "\n",
        "if __name__ == \"__main__\":\n",
        "    test_individual_scaling()\n"
      ],
      "metadata": {
        "colab": {
          "base_uri": "https://localhost:8080/"
        },
        "id": "290RCHTr9Dzq",
        "outputId": "9e5babe9-b248-4979-c7a6-f2d9f0f8b80a"
      },
      "execution_count": 3,
      "outputs": [
        {
          "output_type": "stream",
          "name": "stdout",
          "text": [
            "Original Data:\n",
            "         Feature1  Feature2  Feature3\n",
            "Person1         1         2         3\n",
            "Person2       100       150       200\n",
            "Person3       500       700      1000\n",
            "\n",
            "Individually Scaled Data (Min-Max per row):\n",
            "         Feature1  Feature2  Feature3\n",
            "Person1       0.0       0.5       1.0\n",
            "Person2       0.0       0.5       1.0\n",
            "Person3       0.0       0.4       1.0\n"
          ]
        }
      ]
    }
  ]
}