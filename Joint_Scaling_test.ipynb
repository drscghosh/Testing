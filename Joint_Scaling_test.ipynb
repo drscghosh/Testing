{
  "nbformat": 4,
  "nbformat_minor": 0,
  "metadata": {
    "colab": {
      "provenance": [],
      "authorship_tag": "ABX9TyNBS6PmIyFG449SbiWd2CHU",
      "include_colab_link": true
    },
    "kernelspec": {
      "name": "python3",
      "display_name": "Python 3"
    },
    "language_info": {
      "name": "python"
    }
  },
  "cells": [
    {
      "cell_type": "markdown",
      "metadata": {
        "id": "view-in-github",
        "colab_type": "text"
      },
      "source": [
        "<a href=\"https://colab.research.google.com/github/drscghosh/Testing/blob/master/Joint_Scaling_test.ipynb\" target=\"_parent\"><img src=\"https://colab.research.google.com/assets/colab-badge.svg\" alt=\"Open In Colab\"/></a>"
      ]
    },
    {
      "cell_type": "code",
      "source": [
        "import numpy as np\n",
        "\n",
        "def scale_joints(joints, original_size, target_size):\n",
        "    \"\"\"\n",
        "    Scale joint coordinates from original image size to target image size.\n",
        "\n",
        "    Parameters:\n",
        "    - joints: np.ndarray of shape (N, 2), where N is the number of joints.\n",
        "    - original_size: Tuple (width, height) of the original image.\n",
        "    - target_size: Tuple (width, height) of the scaled image.\n",
        "\n",
        "    Returns:\n",
        "    - scaled_joints: np.ndarray of shape (N, 2) with scaled coordinates.\n",
        "    \"\"\"\n",
        "    orig_w, orig_h = original_size\n",
        "    target_w, target_h = target_size\n",
        "\n",
        "    scale_x = target_w / orig_w\n",
        "    scale_y = target_h / orig_h\n",
        "\n",
        "    # Ensure float operations\n",
        "    scaled_joints = joints.astype(np.float32).copy()\n",
        "    scaled_joints[:, 0] *= scale_x\n",
        "    scaled_joints[:, 1] *= scale_y\n",
        "\n",
        "    return scaled_joints\n",
        "\n",
        "# Example usage\n",
        "if __name__ == \"__main__\":\n",
        "    # Assume 5 joints: [(x1, y1), ..., (x5, y5)]\n",
        "    joints = np.array([\n",
        "        [100, 200],\n",
        "        [150, 250],\n",
        "        [300, 400],\n",
        "        [350, 500],\n",
        "        [400, 600]\n",
        "    ])\n",
        "\n",
        "    original_size = (640, 480)   # Original image size (width, height)\n",
        "    target_size = (320, 240)     # Target image size\n",
        "\n",
        "    scaled = scale_joints(joints, original_size, target_size)\n",
        "\n",
        "    print(\"Original joints:\\n\", joints)\n",
        "    print(\"Scaled joints:\\n\", scaled)\n"
      ],
      "metadata": {
        "colab": {
          "base_uri": "https://localhost:8080/"
        },
        "id": "290RCHTr9Dzq",
        "outputId": "d519e9b1-2bf1-4008-af05-2311a1434702"
      },
      "execution_count": 5,
      "outputs": [
        {
          "output_type": "stream",
          "name": "stdout",
          "text": [
            "Original joints:\n",
            " [[100 200]\n",
            " [150 250]\n",
            " [300 400]\n",
            " [350 500]\n",
            " [400 600]]\n",
            "Scaled joints:\n",
            " [[ 50. 100.]\n",
            " [ 75. 125.]\n",
            " [150. 200.]\n",
            " [175. 250.]\n",
            " [200. 300.]]\n"
          ]
        }
      ]
    }
  ]
}