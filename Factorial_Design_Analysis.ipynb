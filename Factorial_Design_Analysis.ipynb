{
  "nbformat": 4,
  "nbformat_minor": 0,
  "metadata": {
    "colab": {
      "provenance": [],
      "authorship_tag": "ABX9TyMPXots0ewMkVOFyA0oujw5",
      "include_colab_link": true
    },
    "kernelspec": {
      "name": "python3",
      "display_name": "Python 3"
    },
    "language_info": {
      "name": "python"
    }
  },
  "cells": [
    {
      "cell_type": "markdown",
      "metadata": {
        "id": "view-in-github",
        "colab_type": "text"
      },
      "source": [
        "<a href=\"https://colab.research.google.com/github/drscghosh/Testing/blob/master/Factorial_Design_Analysis.ipynb\" target=\"_parent\"><img src=\"https://colab.research.google.com/assets/colab-badge.svg\" alt=\"Open In Colab\"/></a>"
      ]
    },
    {
      "cell_type": "code",
      "execution_count": 13,
      "metadata": {
        "colab": {
          "base_uri": "https://localhost:8080/"
        },
        "id": "cSxvHP7TFbI9",
        "outputId": "e4d3ec3e-51be-4909-d408-20ba53aff246"
      },
      "outputs": [
        {
          "output_type": "stream",
          "name": "stdout",
          "text": [
            "Sample Factorial Design Data:\n",
            "   Factor_A Factor_B  Replicate   Response\n",
            "0       Low      Low          1  10.993428\n",
            "1       Low      Low          2   9.723471\n",
            "2       Low      Low          3  11.295377\n",
            "3       Low      Low          4  13.046060\n",
            "4       Low     High          1   8.531693\n",
            "5       Low     High          2   8.531726\n",
            "6       Low     High          3  12.158426\n",
            "7       Low     High          4  10.534869\n",
            "8      High      Low          1  11.061051\n",
            "9      High      Low          2  13.085120\n",
            "10     High      Low          3  11.073165\n",
            "11     High      Low          4  11.068540\n",
            "12     High     High          1  14.483925\n",
            "13     High     High          2  10.173440\n",
            "14     High     High          3  10.550164\n",
            "15     High     High          4  12.875425\n",
            "\n",
            "Factorial Design ANOVA Table:\n",
            "                            sum_sq    df         F    PR(>F)\n",
            "C(Factor_A)               5.707057   1.0  2.260908  0.158531\n",
            "C(Factor_B)               0.768491   1.0  0.304446  0.591236\n",
            "C(Factor_A):C(Factor_B)   3.147696   1.0  1.246992  0.285989\n",
            "Residual                 30.290786  12.0       NaN       NaN\n",
            "\n",
            "Model Summary:\n",
            "                            OLS Regression Results                            \n",
            "==============================================================================\n",
            "Dep. Variable:               Response   R-squared:                       0.241\n",
            "Model:                            OLS   Adj. R-squared:                  0.051\n",
            "Method:                 Least Squares   F-statistic:                     1.271\n",
            "Date:                Sat, 24 May 2025   Prob (F-statistic):              0.329\n",
            "Time:                        06:34:43   Log-Likelihood:                -27.809\n",
            "No. Observations:                  16   AIC:                             63.62\n",
            "Df Residuals:                      12   BIC:                             66.71\n",
            "Df Model:                           3                                         \n",
            "Covariance Type:            nonrobust                                         \n",
            "=========================================================================================================\n",
            "                                            coef    std err          t      P>|t|      [0.025      0.975]\n",
            "---------------------------------------------------------------------------------------------------------\n",
            "Intercept                                12.0207      0.794     15.132      0.000      10.290      13.752\n",
            "C(Factor_A)[T.Low]                       -2.0816      1.123     -1.853      0.089      -4.529       0.366\n",
            "C(Factor_B)[T.Low]                       -0.4488      1.123     -0.399      0.697      -2.897       1.999\n",
            "C(Factor_A)[T.Low]:C(Factor_B)[T.Low]     1.7742      1.589      1.117      0.286      -1.687       5.236\n",
            "==============================================================================\n",
            "Omnibus:                        2.196   Durbin-Watson:                   2.489\n",
            "Prob(Omnibus):                  0.334   Jarque-Bera (JB):                1.284\n",
            "Skew:                           0.401   Prob(JB):                        0.526\n",
            "Kurtosis:                       1.867   Cond. No.                         6.85\n",
            "==============================================================================\n",
            "\n",
            "Notes:\n",
            "[1] Standard Errors assume that the covariance matrix of the errors is correctly specified.\n"
          ]
        },
        {
          "output_type": "stream",
          "name": "stderr",
          "text": [
            "/usr/local/lib/python3.11/dist-packages/scipy/stats/_axis_nan_policy.py:430: UserWarning: `kurtosistest` p-value may be inaccurate with fewer than 20 observations; only n=16 observations were given.\n",
            "  return hypotest_fun_in(*args, **kwds)\n"
          ]
        }
      ],
      "source": [
        "import pandas as pd\n",
        "import numpy as np\n",
        "import statsmodels.api as sm\n",
        "from statsmodels.formula.api import ols\n",
        "\n",
        "# Sample 2x2 factorial design: Factor A (2 levels), Factor B (2 levels)\n",
        "np.random.seed(42)\n",
        "\n",
        "# Create a DataFrame for the experimental design\n",
        "data = pd.DataFrame({\n",
        "    'Factor_A': np.repeat(['Low', 'High'], 8),\n",
        "    'Factor_B': np.tile(np.repeat(['Low', 'High'], 4), 2),\n",
        "    'Replicate': list(range(1, 5)) * 4,\n",
        "    'Response': np.random.normal(loc=10, scale=2, size=16)\n",
        "})\n",
        "\n",
        "# Introduce systematic effects for demonstration\n",
        "data.loc[(data['Factor_A'] == 'High') & (data['Factor_B'] == 'Low'), 'Response'] += 2\n",
        "data.loc[(data['Factor_A'] == 'Low') & (data['Factor_B'] == 'High'), 'Response'] -= 1\n",
        "data.loc[(data['Factor_A'] == 'High') & (data['Factor_B'] == 'High'), 'Response'] += 4\n",
        "\n",
        "# Display the sample dataset\n",
        "print(\"Sample Factorial Design Data:\")\n",
        "print(data)\n",
        "\n",
        "# Fit the factorial model (including interaction)\n",
        "model = ols('Response ~ C(Factor_A) * C(Factor_B)', data=data).fit()\n",
        "anova_table = sm.stats.anova_lm(model, typ=2)\n",
        "\n",
        "# Print ANOVA results\n",
        "print(\"\\nFactorial Design ANOVA Table:\")\n",
        "print(anova_table)\n",
        "\n",
        "# Interpret the results\n",
        "print(\"\\nModel Summary:\")\n",
        "print(model.summary())\n"
      ]
    }
  ]
}